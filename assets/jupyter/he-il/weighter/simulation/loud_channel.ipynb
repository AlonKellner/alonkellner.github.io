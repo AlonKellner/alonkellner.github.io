{
 "cells": [
  {
   "cell_type": "code",
   "execution_count": null,
   "metadata": {},
   "outputs": [],
   "source": [
    "import torchaudio\n",
    "import torch\n",
    "import holoviews as hv\n",
    "\n",
    "hv.extension(\"bokeh\")"
   ]
  },
  {
   "cell_type": "code",
   "execution_count": null,
   "metadata": {},
   "outputs": [],
   "source": [
    "def envelope(wav, sr):\n",
    "    return torch.nn.functional.max_pool1d(wav.abs(), 1001, 500, padding=500)\n",
    "\n",
    "\n",
    "wav, sr = torchaudio.load(\"https://catalog.ldc.upenn.edu/desc/addenda/LDC97S42.sph\")\n",
    "env = envelope(wav, sr)\n",
    "loud_channel = (env[0] > env[1]).to(int)\n",
    "random_channel = (torch.rand_like(loud_channel, dtype=float) > 0.5).to(int)\n",
    "\n",
    "(\n",
    "    hv.Curve(loud_channel, label=\"Real\").opts(responsive=True, height=200)\n",
    "    + hv.Curve(random_channel, label=\"Pure random\").opts(responsive=True, height=200)\n",
    ").cols(1)"
   ]
  },
  {
   "cell_type": "code",
   "execution_count": null,
   "metadata": {},
   "outputs": [],
   "source": [
    "def random_walk(scale=10):\n",
    "    simple_random_walk = (torch.randn_like(loud_channel, dtype=float) / scale).cumsum(\n",
    "        dim=-1\n",
    "    ) + torch.rand(1)\n",
    "    return ((simple_random_walk % 2) - 1).abs()\n",
    "\n",
    "\n",
    "hv.Curve(random_walk()).opts(\n",
    "    title=\"Random walk between 0 and 1\", responsive=True, height=300\n",
    ")"
   ]
  },
  {
   "cell_type": "code",
   "execution_count": null,
   "metadata": {},
   "outputs": [],
   "source": [
    "random_walk_channel = (random_walk() > 0.5).to(int)\n",
    "\n",
    "(\n",
    "    hv.Curve(loud_channel, label=\"Real\").opts(responsive=True, height=200)\n",
    "    + hv.Curve(random_walk_channel, label=\"Random walk\").opts(\n",
    "        responsive=True, height=200\n",
    "    )\n",
    ").cols(1)"
   ]
  }
 ],
 "metadata": {
  "kernelspec": {
   "display_name": "Python 3",
   "language": "python",
   "name": "python3"
  },
  "language_info": {
   "codemirror_mode": {
    "name": "ipython",
    "version": 3
   },
   "file_extension": ".py",
   "mimetype": "text/x-python",
   "name": "python",
   "nbconvert_exporter": "python",
   "pygments_lexer": "ipython3",
   "version": "3.11.2"
  }
 },
 "nbformat": 4,
 "nbformat_minor": 2
}
